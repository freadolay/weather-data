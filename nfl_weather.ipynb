{
 "cells": [
  {
   "cell_type": "code",
   "execution_count": 1,
   "metadata": {},
   "outputs": [],
   "source": [
    "import requests\n",
    "import pandas as pd\n",
    "from bs4 import BeautifulSoup\n",
    "import lxml"
   ]
  },
  {
   "cell_type": "code",
   "execution_count": 2,
   "metadata": {},
   "outputs": [],
   "source": [
    "# Request oldest and newest Season Weeks\n",
    "response_2010 = requests.get('http://www.nflweather.com/en/week/2010/week-1-2/')\n",
    "response_2021 = requests.get('http://www.nflweather.com/en/week/2021/week-1/')"
   ]
  },
  {
   "cell_type": "code",
   "execution_count": 3,
   "metadata": {},
   "outputs": [],
   "source": [
    "weather_2010_soup = BeautifulSoup(response_2010.content, 'html.parser')\n",
    "weather_2021_soup = BeautifulSoup(response_2021.content, 'html.parser')"
   ]
  },
  {
   "cell_type": "code",
   "execution_count": 25,
   "metadata": {},
   "outputs": [],
   "source": [
    "# weather_2010_soup.find_all('td', class_='details text-center')#, class_='details text-center footable-last-column')\n",
    "game_link_2010 = weather_2010_soup.find_all('a', class_='btn btn-success move-rigth')[0]['href']\n",
    "game_link_2021 = weather_2021_soup.find_all('a', class_='btn btn-success move-rigth')[0]['href']\n",
    "# test_tbl = weather_2010_soup.find('table')\n",
    "# pd.read_html(str(test_tbl))[0]"
   ]
  },
  {
   "cell_type": "code",
   "execution_count": 16,
   "metadata": {},
   "outputs": [],
   "source": [
    "# Request Old Game\n",
    "response_game_2010 = requests.get(f'http://www.nflweather.com{game_link_2010}')"
   ]
  },
  {
   "cell_type": "code",
   "execution_count": 24,
   "metadata": {},
   "outputs": [
    {
     "data": {
      "text/plain": [
       "'New Orleans Saints'"
      ]
     },
     "execution_count": 24,
     "metadata": {},
     "output_type": "execute_result"
    }
   ],
   "source": [
    "weather_2010_game_soup = BeautifulSoup(response_game_2010.content, 'html.parser')\n",
    "weather_2010_game_soup.find_all('div',class_='g-away')[1].get_text().replace('  ',' ')  # away team\n",
    "weather_2010_game_soup.find_all('div',class_='g-home')[1].get_text().replace('  ',' ')  # home team\n"
   ]
  },
  {
   "cell_type": "code",
   "execution_count": 36,
   "metadata": {},
   "outputs": [
    {
     "data": {
      "text/plain": [
       "True"
      ]
     },
     "execution_count": 36,
     "metadata": {},
     "output_type": "execute_result"
    }
   ],
   "source": [
    "(weather_2010_game_soup.find_all('div',class_='span3')[1].p) == None"
   ]
  },
  {
   "cell_type": "code",
   "execution_count": 28,
   "metadata": {},
   "outputs": [
    {
     "name": "stdout",
     "output_type": "stream",
     "text": [
      "Requesting http://www.nflweather.com/en/game/2021/week-1/cowboys-at-buccaneers\n"
     ]
    }
   ],
   "source": [
    "# Request New Game\n",
    "game_link_all = f'http://www.nflweather.com{game_link_2021}'\n",
    "print(f'Requesting {game_link_all}')\n",
    "response_game_2021 = requests.get(game_link_all)"
   ]
  },
  {
   "cell_type": "code",
   "execution_count": 30,
   "metadata": {},
   "outputs": [
    {
     "data": {
      "text/plain": [
       "'Tampa Bay Buccaneers'"
      ]
     },
     "execution_count": 30,
     "metadata": {},
     "output_type": "execute_result"
    }
   ],
   "source": [
    "weather_2021_game_soup = BeautifulSoup(response_game_2021.content, 'html.parser')\n",
    "weather_2021_game_soup.find_all('div',class_='g-away')[1].get_text().replace('  ',' ')  # away team\n",
    "weather_2021_game_soup.find_all('div',class_='g-home')[1].get_text().replace('  ',' ')  # home team"
   ]
  },
  {
   "cell_type": "code",
   "execution_count": 110,
   "metadata": {},
   "outputs": [
    {
     "name": "stdout",
     "output_type": "stream",
     "text": [
      "Kickoff\n",
      "Humid and Partly Cloudy\n",
      "80\n",
      "87\n",
      "6\n",
      "West - SouthWest\n",
      "85\n",
      "10\n",
      "1012\n",
      "75\n",
      "45\n",
      "0\n",
      "Raymond James Stadium\n",
      "Grass\n",
      "Tampa, Florida\n",
      "33607\n",
      "Open\n"
     ]
    }
   ],
   "source": [
    "from src import helpers\n",
    "import importlib\n",
    "importlib.reload(helpers)\n",
    "# Check if 2nd Quarter Exists - break loop on four quarters if the next is None\n",
    "quarter_1 = weather_2021_game_soup.find_all('div',class_='span3')[0]\n",
    "q1_weather_elements = quarter_1.find_all('p')\n",
    "print(q1_weather_elements[1].get_text())  # Quarter\n",
    "print(q1_weather_elements[3].get_text().strip())  # Weather Conditions\n",
    "# Temperature\n",
    "tf, el = helpers.check_for_element('Temperature', q1_weather_elements)\n",
    "if tf:\n",
    "    print(el.b.get_text().replace('f.',''))  # Temperature in DegF\n",
    "# Feels Like\n",
    "tf, el = helpers.check_for_element('Feels Like', q1_weather_elements)\n",
    "if tf:\n",
    "    print(el.b.get_text().replace('f.',''))  # Feels Like in DegF\n",
    "# Wind\n",
    "tf, el = helpers.check_for_element('Wind', q1_weather_elements)\n",
    "if tf:\n",
    "    wind_els = el.b.get_text().split('mi ')\n",
    "    print(wind_els[0])  # Wind Speed in mph\n",
    "    print(wind_els[1])  # Wind Direction\n",
    "# Humidity\n",
    "tf, el = helpers.check_for_element('Humidity', q1_weather_elements)\n",
    "if tf:\n",
    "    print(el.b.get_text().replace('%',''))  # Humidity PCT\n",
    "# Visibility\n",
    "tf, el = helpers.check_for_element('Visibility', q1_weather_elements)\n",
    "if tf:\n",
    "    print(el.b.get_text().replace('mi',''))  # Visibility in Miles\n",
    "# Barometer\n",
    "tf, el = helpers.check_for_element('Barometer', q1_weather_elements)\n",
    "if tf:\n",
    "    print(el.b.get_text().replace('\"',''))  # Barometer in Miles\n",
    "# Dew Point\n",
    "tf, el = helpers.check_for_element('Dew Point', q1_weather_elements)\n",
    "if tf:\n",
    "    print(el.b.get_text().replace('f.',''))  # Dew Point in DegF\n",
    "# Cloud Cover\n",
    "tf, el = helpers.check_for_element('Cloud Cover', q1_weather_elements)\n",
    "if tf:\n",
    "    print(el.b.get_text().replace('%',''))  # Cloud Cover PCT\n",
    "# Precipitation Prob\n",
    "tf, el = helpers.check_for_element('Precipitation', q1_weather_elements)\n",
    "if tf:\n",
    "    print(el.b.get_text().replace('%',''))  # Precipitation Prob PCT\n",
    "\n",
    "## Start of Stadium Details\n",
    "stadium_details = weather_2021_game_soup.find_all('div',class_='span4')[1]\n",
    "stadium_details_elements = stadium_details.find_all('p')\n",
    "# Stadium Name\n",
    "print(stadium_details_elements[2].get_text())\n",
    "# Stadium Surface\n",
    "tf, el = helpers.check_for_element('Surface', stadium_details_elements)\n",
    "if tf:\n",
    "    print(el.b.get_text())\n",
    "# Stadium Location\n",
    "tf, el = helpers.check_for_element('Location', stadium_details_elements)\n",
    "if tf:\n",
    "    print(el.b.get_text())\n",
    "# Stadium Zip\n",
    "tf, el = helpers.check_for_element('Zip', stadium_details_elements)\n",
    "if tf:\n",
    "    print(el.b.get_text())\n",
    "# Stadium Type\n",
    "tf, el = helpers.check_for_element('Type', stadium_details_elements)\n",
    "if tf:\n",
    "    print(el.b.get_text())\n",
    "\n"
   ]
  },
  {
   "cell_type": "code",
   "execution_count": 130,
   "metadata": {},
   "outputs": [],
   "source": [
    "from src import helpers\n",
    "from src import scrapers\n",
    "import importlib\n",
    "importlib.reload(helpers)\n",
    "importlib.reload(scrapers)\n",
    "nflw_scraper = scrapers.NflwScraper()\n",
    "# df_2021 = nflw_scraper.get_games(seasons=2010, weeks=1, game_limit=1)\n",
    "week_nums, week_labels, week_hrefs= helpers.weeks_lkp(2010)\n"
   ]
  }
 ],
 "metadata": {
  "kernelspec": {
   "display_name": "Python 3.10.5 ('venv': venv)",
   "language": "python",
   "name": "python3"
  },
  "language_info": {
   "codemirror_mode": {
    "name": "ipython",
    "version": 3
   },
   "file_extension": ".py",
   "mimetype": "text/x-python",
   "name": "python",
   "nbconvert_exporter": "python",
   "pygments_lexer": "ipython3",
   "version": "3.10.5"
  },
  "orig_nbformat": 4,
  "vscode": {
   "interpreter": {
    "hash": "17d3150816b6c8efc27f31da51af4dd1a8ca24b75e7ab166330e882d4a9126fa"
   }
  }
 },
 "nbformat": 4,
 "nbformat_minor": 2
}
